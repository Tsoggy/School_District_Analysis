{
 "cells": [
  {
   "cell_type": "code",
   "execution_count": 17,
   "id": "c4593ee6",
   "metadata": {},
   "outputs": [],
   "source": [
    "def say_hello():\n",
    "    print(\"Hello!\")"
   ]
  },
  {
   "cell_type": "code",
   "execution_count": 18,
   "id": "d5704858",
   "metadata": {},
   "outputs": [
    {
     "name": "stdout",
     "output_type": "stream",
     "text": [
      "Hello!\n"
     ]
    }
   ],
   "source": [
    "say_hello()"
   ]
  },
  {
   "cell_type": "code",
   "execution_count": 19,
   "id": "964467cb",
   "metadata": {},
   "outputs": [
    {
     "name": "stdout",
     "output_type": "stream",
     "text": [
      "Hi, my name is Jane\n"
     ]
    }
   ],
   "source": [
    "Jane_says = \"Hi, my name is Jane\"\n",
    "say_something(Jane_says)"
   ]
  },
  {
   "cell_type": "code",
   "execution_count": 34,
   "id": "db3f58b7",
   "metadata": {},
   "outputs": [],
   "source": [
    "def passing_math_percent(passing_math_count, student_count):\n",
    "    return passing_math_count /float(student_count) * 100"
   ]
  },
  {
   "cell_type": "code",
   "execution_count": 35,
   "id": "6c3ca8de",
   "metadata": {},
   "outputs": [],
   "source": [
    "passing_math_count = 29370\n",
    "total_student_count = 39170"
   ]
  },
  {
   "cell_type": "code",
   "execution_count": 36,
   "id": "102e45f2",
   "metadata": {},
   "outputs": [
    {
     "data": {
      "text/plain": [
       "74.9808526933878"
      ]
     },
     "execution_count": 36,
     "metadata": {},
     "output_type": "execute_result"
    }
   ],
   "source": [
    "passing_math_percent(passing_math_count, total_student_count)"
   ]
  },
  {
   "cell_type": "code",
   "execution_count": null,
   "id": "e1b13691",
   "metadata": {},
   "outputs": [],
   "source": []
  },
  {
   "cell_type": "code",
   "execution_count": 38,
   "id": "2ab21f22",
   "metadata": {},
   "outputs": [],
   "source": [
    "my_grades = ['B', 'C', 'B', 'D']"
   ]
  },
  {
   "cell_type": "code",
   "execution_count": 39,
   "id": "7b0ebcfe",
   "metadata": {},
   "outputs": [
    {
     "data": {
      "text/plain": [
       "0    B\n",
       "1    C\n",
       "2    B\n",
       "3    D\n",
       "dtype: object"
      ]
     },
     "execution_count": 39,
     "metadata": {},
     "output_type": "execute_result"
    }
   ],
   "source": [
    "import pandas as pd\n",
    "my_grades = pd.Series(my_grades)\n",
    "my_grades"
   ]
  },
  {
   "cell_type": "code",
   "execution_count": 41,
   "id": "eff90b33",
   "metadata": {},
   "outputs": [
    {
     "data": {
      "text/plain": [
       "0    A\n",
       "1    B\n",
       "2    A\n",
       "3    C\n",
       "dtype: object"
      ]
     },
     "execution_count": 41,
     "metadata": {},
     "output_type": "execute_result"
    }
   ],
   "source": [
    "my_grades.map({'B': 'A', 'C': 'B', 'D': 'C' })"
   ]
  },
  {
   "cell_type": "code",
   "execution_count": 42,
   "id": "68b96b07",
   "metadata": {},
   "outputs": [
    {
     "name": "stdout",
     "output_type": "stream",
     "text": [
      "92\n",
      "85\n",
      "87\n",
      "98\n"
     ]
    }
   ],
   "source": [
    "my_grades = [92.34, 84.56, 86.78, 98.32]\n",
    "for grade in my_grades:\n",
    "    print(\"{:.0f}\".format(grade))"
   ]
  },
  {
   "cell_type": "code",
   "execution_count": 43,
   "id": "47b1e844",
   "metadata": {},
   "outputs": [
    {
     "name": "stdout",
     "output_type": "stream",
     "text": [
      "Hello!\n"
     ]
    }
   ],
   "source": [
    "say_hello = print(\"Hello!\")\n",
    "say_hello"
   ]
  },
  {
   "cell_type": "code",
   "execution_count": null,
   "id": "df1b5b53",
   "metadata": {},
   "outputs": [],
   "source": []
  }
 ],
 "metadata": {
  "kernelspec": {
   "display_name": "PythonData",
   "language": "python",
   "name": "pythondata"
  },
  "language_info": {
   "codemirror_mode": {
    "name": "ipython",
    "version": 3
   },
   "file_extension": ".py",
   "mimetype": "text/x-python",
   "name": "python",
   "nbconvert_exporter": "python",
   "pygments_lexer": "ipython3",
   "version": "3.7.10"
  }
 },
 "nbformat": 4,
 "nbformat_minor": 5
}
